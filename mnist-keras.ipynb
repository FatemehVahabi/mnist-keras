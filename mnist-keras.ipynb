{
 "cells": [
  {
   "cell_type": "code",
   "execution_count": 1,
   "id": "78f951f1-4cb4-4d17-8da6-3545320eb686",
   "metadata": {},
   "outputs": [
    {
     "name": "stdout",
     "output_type": "stream",
     "text": [
      "WARNING:tensorflow:From C:\\Users\\BiG\\anaconda3\\lib\\site-packages\\keras\\src\\losses.py:2976: The name tf.losses.sparse_softmax_cross_entropy is deprecated. Please use tf.compat.v1.losses.sparse_softmax_cross_entropy instead.\n",
      "\n",
      "Training data shape: (60000, 28, 28)\n",
      "Testing data shape: (10000, 28, 28)\n",
      "Number of classes: 10\n"
     ]
    }
   ],
   "source": [
    "from keras.datasets import mnist\n",
    "\n",
    "# Load the MNIST dataset\n",
    "(x_train, y_train), (x_test, y_test) = mnist.load_data()\n",
    "\n",
    "# Print the shape of the training data\n",
    "print('Training data shape:', x_train.shape)  # (60000, 28, 28)\n",
    "\n",
    "# Print the shape of the testing data\n",
    "print('Testing data shape:', x_test.shape)  # (10000, 28, 28)\n",
    "\n",
    "# Print the number of classes\n",
    "num_classes = len(set(y_train))\n",
    "print('Number of classes:', num_classes)  # 10"
   ]
  },
  {
   "cell_type": "code",
   "execution_count": 2,
   "id": "1a814b45-7a7e-4d42-8d57-6dffbc684e52",
   "metadata": {},
   "outputs": [
    {
     "name": "stdout",
     "output_type": "stream",
     "text": [
      "WARNING:tensorflow:From C:\\Users\\BiG\\anaconda3\\lib\\site-packages\\keras\\src\\backend.py:873: The name tf.get_default_graph is deprecated. Please use tf.compat.v1.get_default_graph instead.\n",
      "\n",
      "WARNING:tensorflow:From C:\\Users\\BiG\\anaconda3\\lib\\site-packages\\keras\\src\\optimizers\\__init__.py:309: The name tf.train.Optimizer is deprecated. Please use tf.compat.v1.train.Optimizer instead.\n",
      "\n",
      "Epoch 1/5\n",
      "WARNING:tensorflow:From C:\\Users\\BiG\\anaconda3\\lib\\site-packages\\keras\\src\\utils\\tf_utils.py:492: The name tf.ragged.RaggedTensorValue is deprecated. Please use tf.compat.v1.ragged.RaggedTensorValue instead.\n",
      "\n",
      "WARNING:tensorflow:From C:\\Users\\BiG\\anaconda3\\lib\\site-packages\\keras\\src\\engine\\base_layer_utils.py:384: The name tf.executing_eagerly_outside_functions is deprecated. Please use tf.compat.v1.executing_eagerly_outside_functions instead.\n",
      "\n",
      "375/375 [==============================] - 3s 5ms/step - loss: 0.3759 - accuracy: 0.8948 - val_loss: 0.1768 - val_accuracy: 0.9499\n",
      "Epoch 2/5\n",
      "375/375 [==============================] - 2s 4ms/step - loss: 0.1506 - accuracy: 0.9551 - val_loss: 0.1401 - val_accuracy: 0.9605\n",
      "Epoch 3/5\n",
      "375/375 [==============================] - 1s 4ms/step - loss: 0.1064 - accuracy: 0.9684 - val_loss: 0.1153 - val_accuracy: 0.9647\n",
      "Epoch 4/5\n",
      "375/375 [==============================] - 1s 4ms/step - loss: 0.0801 - accuracy: 0.9762 - val_loss: 0.1047 - val_accuracy: 0.9682\n",
      "Epoch 5/5\n",
      "375/375 [==============================] - 1s 4ms/step - loss: 0.0626 - accuracy: 0.9804 - val_loss: 0.0949 - val_accuracy: 0.9722\n",
      "313/313 [==============================] - 1s 2ms/step - loss: 0.0844 - accuracy: 0.9745\n",
      "Test loss: 0.08442243933677673\n",
      "Test accuracy: 0.9745000004768372\n"
     ]
    }
   ],
   "source": [
    "import keras\n",
    "from keras.datasets import mnist\n",
    "from keras.models import Sequential\n",
    "from keras.layers import Dense, Flatten\n",
    "\n",
    "\n",
    "# Preprocess the data\n",
    "x_train = x_train.reshape((60000, 28 * 28))\n",
    "x_train = x_train.astype('float32') / 255\n",
    "\n",
    "x_test = x_test.reshape((10000, 28 * 28))\n",
    "x_test = x_test.astype('float32') / 255\n",
    "\n",
    "# Convert the labels to categorical one-hot encoding\n",
    "y_train = keras.utils.to_categorical(y_train)\n",
    "y_test = keras.utils.to_categorical(y_test)\n",
    "\n",
    "# Build the model\n",
    "model = Sequential()\n",
    "model.add(Dense(128, activation='relu', input_shape=(28 * 28,)))\n",
    "model.add(Dense(64, activation='relu'))\n",
    "model.add(Dense(10, activation='softmax'))\n",
    "\n",
    "# Compile the model\n",
    "model.compile(optimizer='adam',\n",
    "              loss='categorical_crossentropy',\n",
    "              metrics=['accuracy'])\n",
    "\n",
    "# Train the model\n",
    "model.fit(x_train, y_train, epochs=5, batch_size=128, validation_split=0.2)\n",
    "\n",
    "# Evaluate the model\n",
    "test_loss, test_acc = model.evaluate(x_test, y_test)\n",
    "print('Test loss:', test_loss)\n",
    "print('Test accuracy:', test_acc)"
   ]
  },
  {
   "cell_type": "code",
   "execution_count": 3,
   "id": "a3eb4f2e-ad29-4c93-99de-19eaf20e21a1",
   "metadata": {},
   "outputs": [],
   "source": [
    "# Save the weights\n",
    "model.save_weights('mnist_model_weights.h5')"
   ]
  },
  {
   "cell_type": "code",
   "execution_count": null,
   "id": "17c3065b-6b3a-4904-993c-9abe655a4ee6",
   "metadata": {},
   "outputs": [],
   "source": []
  },
  {
   "cell_type": "code",
   "execution_count": null,
   "id": "9a0e2e66-32e4-4637-bb2f-4a250c747f9f",
   "metadata": {},
   "outputs": [],
   "source": []
  }
 ],
 "metadata": {
  "kernelspec": {
   "display_name": "Python 3 (ipykernel)",
   "language": "python",
   "name": "python3"
  },
  "language_info": {
   "codemirror_mode": {
    "name": "ipython",
    "version": 3
   },
   "file_extension": ".py",
   "mimetype": "text/x-python",
   "name": "python",
   "nbconvert_exporter": "python",
   "pygments_lexer": "ipython3",
   "version": "3.10.9"
  }
 },
 "nbformat": 4,
 "nbformat_minor": 5
}
